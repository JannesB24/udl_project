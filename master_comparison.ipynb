{
   "cells": [
      {
         "cell_type": "markdown",
         "id": "4f95fd67",
         "metadata": {},
         "source": [
            "ResNet Model Comparison Analysis\n",
            "This notebook implements and compares different ResNet model training approaches using various regularization techniques on a small classification dataset.\n"
         ]
      },
      {
         "cell_type": "code",
         "execution_count": null,
         "id": "3fb67d45",
         "metadata": {},
         "outputs": [],
         "source": [
            "from udl_project.training import config\n",
            "\n",
            "EPOCHS = 10\n",
            "learning_rate = 0.001"
         ]
      },
      {
         "cell_type": "code",
         "execution_count": 3,
         "id": "3790f89a",
         "metadata": {},
         "outputs": [
            {
               "name": "stdout",
               "output_type": "stream",
               "text": [
                  "============================================================\n",
                  "TRAINING ORIGINAL RESNET MODEL\n",
                  "============================================================\n",
                  "Data directory: /home/jannes/.cache/kagglehub/datasets/lara311/flowers-five-classes/versions/1\n",
                  "Training Unregularized ResNet...\n",
                  "12.457960882048676\n",
                  "Epoch [1/10] - Train Loss: 12.4580, Train Accuracy: 0.3479 | Val Loss: 11.6209, Val Accuracy: 0.4145 | Duration: 0:00:08.155317\n",
                  "3.0224851102068806\n",
                  "Epoch [2/10] - Train Loss: 3.0225, Train Accuracy: 0.4891 | Val Loss: 1.8588, Val Accuracy: 0.4909 | Duration: 0:00:10.006757\n",
                  "1.9774939340093862\n",
                  "Epoch [3/10] - Train Loss: 1.9775, Train Accuracy: 0.5328 | Val Loss: 1.9311, Val Accuracy: 0.4727 | Duration: 0:00:07.842366\n",
                  "1.7771467592405237\n",
                  "Epoch [4/10] - Train Loss: 1.7771, Train Accuracy: 0.5583 | Val Loss: 1.7431, Val Accuracy: 0.5000 | Duration: 0:00:09.149392\n",
                  "2.0168238515439243\n",
                  "Epoch [5/10] - Train Loss: 2.0168, Train Accuracy: 0.5569 | Val Loss: 1.6654, Val Accuracy: 0.5000 | Duration: 0:00:09.053560\n",
                  "2.386645176272461\n",
                  "Epoch [6/10] - Train Loss: 2.3866, Train Accuracy: 0.5524 | Val Loss: 1.6553, Val Accuracy: 0.4727 | Duration: 0:00:08.707020\n",
                  "1.7767714132433352\n",
                  "Epoch [7/10] - Train Loss: 1.7768, Train Accuracy: 0.5956 | Val Loss: 2.9467, Val Accuracy: 0.5400 | Duration: 0:00:07.426987\n",
                  "1.4768075208733047\n",
                  "Epoch [8/10] - Train Loss: 1.4768, Train Accuracy: 0.6207 | Val Loss: 3.5239, Val Accuracy: 0.5382 | Duration: 0:00:10.881353\n",
                  "1.5925605478494063\n",
                  "Epoch [9/10] - Train Loss: 1.5926, Train Accuracy: 0.6011 | Val Loss: 2.4558, Val Accuracy: 0.5218 | Duration: 0:00:09.742856\n",
                  "1.425766390302907\n",
                  "Epoch [10/10] - Train Loss: 1.4258, Train Accuracy: 0.6070 | Val Loss: 1.7368, Val Accuracy: 0.4836 | Duration: 0:00:08.153461\n",
                  "\n",
                  "Original model training completed!\n",
                  "Final overfitting gap: 0.1234\n",
                  "Results saved to artifacts/original_results.pkl\n"
               ]
            }
         ],
         "source": [
            "from udl_project.training.resnet_model_trainer import ResNetModelTrainer\n",
            "\n",
            "res_net_model_trainer = ResNetModelTrainer(epochs=EPOCHS, learning_rate=0.01)\n",
            "res_net_model_trainer.train()"
         ]
      },
      {
         "cell_type": "code",
         "execution_count": 4,
         "id": "d0c5af91",
         "metadata": {},
         "outputs": [
            {
               "name": "stdout",
               "output_type": "stream",
               "text": [
                  "L2 REGULARIZATION TRAINING\n",
                  "Using weight_decay=0.01\n",
                  "============================================================\n",
                  "============================================================\n",
                  "TRAINING L2 REGULARIZED RESNET (weight_decay=0.01)\n",
                  "============================================================\n",
                  "Data directory: /Users/muhammad/.cache/kagglehub/datasets/lara311/flowers-five-classes/versions/1\n",
                  "Training L2 Regularized ResNet...\n",
                  "Epoch [1/10] - Train Loss: 2.6540, Train Accuracy: 0.4809 | Val Loss: 2.3785, Val Accuracy: 0.5218 | Duration: 0:01:49.892768\n",
                  "Epoch [2/10] - Train Loss: 1.3970, Train Accuracy: 0.6129 | Val Loss: 1.6478, Val Accuracy: 0.5782 | Duration: 0:01:51.651647\n",
                  "Epoch [3/10] - Train Loss: 0.8935, Train Accuracy: 0.7063 | Val Loss: 1.7005, Val Accuracy: 0.5673 | Duration: 0:01:49.759228\n",
                  "Epoch [4/10] - Train Loss: 0.6338, Train Accuracy: 0.7787 | Val Loss: 1.7116, Val Accuracy: 0.5691 | Duration: 0:01:48.236334\n",
                  "Epoch [5/10] - Train Loss: 0.4740, Train Accuracy: 0.8224 | Val Loss: 1.5804, Val Accuracy: 0.5964 | Duration: 0:01:47.710544\n",
                  "Epoch [6/10] - Train Loss: 0.3411, Train Accuracy: 0.8757 | Val Loss: 1.5483, Val Accuracy: 0.5745 | Duration: 0:01:47.605716\n",
                  "Epoch [7/10] - Train Loss: 0.2730, Train Accuracy: 0.9026 | Val Loss: 2.1847, Val Accuracy: 0.4873 | Duration: 0:01:46.317597\n",
                  "Epoch [8/10] - Train Loss: 0.1986, Train Accuracy: 0.9317 | Val Loss: 1.3696, Val Accuracy: 0.5982 | Duration: 0:01:46.690370\n",
                  "Epoch [9/10] - Train Loss: 0.1465, Train Accuracy: 0.9549 | Val Loss: 1.4408, Val Accuracy: 0.6236 | Duration: 0:01:46.614282\n",
                  "Epoch [10/10] - Train Loss: 0.1456, Train Accuracy: 0.9567 | Val Loss: 1.3072, Val Accuracy: 0.6073 | Duration: 0:01:47.398553\n",
                  "\n",
                  "L2 Regularized model training completed!\n",
                  "Final overfitting gap: 0.3495\n",
                  "Results saved to ../artifacts/l2_results.pkl\n",
                  "\n",
                  "L2 REGULARIZATION TRAINING COMPLETED!\n",
                  "Generated files:\n",
                  "  - ../artifacts/l2_model_wd_0.01.pth\n",
                  "  - ../artifacts/l2_results.pkl\n"
               ]
            }
         ],
         "source": [
            "from udl_project.training.l2_regularized_model_trainer import L2RegularizedModelTrainer\n",
            "\n",
            "l2_regularized_model_trainer = L2RegularizedModelTrainer(config.WEIGHT_DECAY, epochs=EPOCHS)\n",
            "l2_regularized_model_trainer.train()"
         ]
      },
      {
         "cell_type": "code",
         "execution_count": null,
         "id": "bc5f4c90",
         "metadata": {},
         "outputs": [
            {
               "name": "stdout",
               "output_type": "stream",
               "text": [
                  "EARLY STOPPING TRAINING\n",
                  "Using patience=5, min_delta=0.0, monitor='val_loss'\n",
                  "============================================================\n",
                  "============================================================\n",
                  "TRAINING RESNET WITH EARLY STOPPING (patience=5, monitor=val_loss)\n",
                  "============================================================\n",
                  "Data directory: /Users/muhammad/.cache/kagglehub/datasets/lara311/flowers-five-classes/versions/1\n",
                  "Training ResNet with Early Stopping...\n",
                  "Epoch [1/10] - Train Loss: 2.3636, Train Accuracy: 0.5114 | Val Loss: 1.6486, Val Accuracy: 0.5636 | Duration: 0:01:57.281215\n",
                  "Epoch [2/10] - Train Loss: 1.2863, Train Accuracy: 0.6357 | Val Loss: 2.3091, Val Accuracy: 0.4982 | Duration: 0:01:52.146370\n",
                  "    → No improvement for 1 epochs\n",
                  "Epoch [3/10] - Train Loss: 0.8466, Train Accuracy: 0.7231 | Val Loss: 2.3561, Val Accuracy: 0.5655 | Duration: 0:01:48.173810\n",
                  "    → No improvement for 2 epochs\n",
                  "Epoch [4/10] - Train Loss: 0.5495, Train Accuracy: 0.8056 | Val Loss: 1.3922, Val Accuracy: 0.6073 | Duration: 0:01:53.338177\n",
                  "    → New best val_loss: 1.3922\n",
                  "Epoch [5/10] - Train Loss: 0.3667, Train Accuracy: 0.8679 | Val Loss: 1.8365, Val Accuracy: 0.5764 | Duration: 0:01:48.256335\n",
                  "    → No improvement for 1 epochs\n",
                  "Epoch [6/10] - Train Loss: 0.3305, Train Accuracy: 0.8852 | Val Loss: 1.8962, Val Accuracy: 0.5400 | Duration: 0:01:53.362357\n",
                  "    → No improvement for 2 epochs\n",
                  "Epoch [7/10] - Train Loss: 0.2045, Train Accuracy: 0.9308 | Val Loss: 1.8878, Val Accuracy: 0.5945 | Duration: 0:01:53.152199\n",
                  "    → No improvement for 3 epochs\n",
                  "Epoch [8/10] - Train Loss: 0.1533, Train Accuracy: 0.9476 | Val Loss: 1.8039, Val Accuracy: 0.5982 | Duration: 0:01:57.891142\n",
                  "    → No improvement for 4 epochs\n"
               ]
            }
         ],
         "source": [
            "from udl_project.training.early_stopping_model_trainer import EarlyStoppingModelTrainer\n",
            "\n",
            "early_stopping_model_trainer = EarlyStoppingModelTrainer(patience=5, epochs=EPOCHS)\n",
            "early_stopping_model_trainer.train()"
         ]
      },
      {
         "cell_type": "code",
         "execution_count": null,
         "id": "003e221c",
         "metadata": {},
         "outputs": [],
         "source": [
            "from udl_project.training.ensemble_model_trainer import EnsembleModelTrainer\n",
            "\n",
            "ensemble_model_trainer = EnsembleModelTrainer(config.NUMBER_OF_ENSEMBLE_MODELS, epochs=EPOCHS)\n",
            "ensemble_model_trainer.train()"
         ]
      },
      {
         "cell_type": "code",
         "execution_count": null,
         "id": "ec3029b7",
         "metadata": {},
         "outputs": [],
         "source": [
            "from udl_project.plotter import COLORS, LINESTYLES"
         ]
      },
      {
         "cell_type": "code",
         "execution_count": null,
         "id": "19c4c739",
         "metadata": {},
         "outputs": [],
         "source": [
            "from udl_project.plotter import load_results, plot_comparison\n",
            "\n",
            "results = load_results()\n",
            "comparison_fig = plot_comparison(results=results, colors=COLORS, linestyles=LINESTYLES)"
         ]
      },
      {
         "cell_type": "code",
         "execution_count": null,
         "id": "521c0cf5",
         "metadata": {},
         "outputs": [],
         "source": [
            "from udl_project.plotter import plot_overfitting_analysis\n",
            "\n",
            "overfitting_analysis_fig = plot_overfitting_analysis(\n",
            "    results=results, colors=COLORS, linestyles=LINESTYLES\n",
            ")"
         ]
      },
      {
         "cell_type": "code",
         "execution_count": null,
         "id": "689b1fe4",
         "metadata": {},
         "outputs": [],
         "source": [
            "from udl_project.plotter import plot_summary_dashboard\n",
            "\n",
            "dashboard_fig = plot_summary_dashboard(results=results, colors=COLORS)"
         ]
      },
      {
         "cell_type": "code",
         "execution_count": null,
         "id": "287ca08e",
         "metadata": {},
         "outputs": [],
         "source": [
            "from udl_project.plotter import print_summary\n",
            "\n",
            "print_summary(results=results)"
         ]
      }
   ],
   "metadata": {
      "kernelspec": {
         "display_name": ".venv",
         "language": "python",
         "name": "python3"
      },
      "language_info": {
         "codemirror_mode": {
            "name": "ipython",
            "version": 3
         },
         "file_extension": ".py",
         "mimetype": "text/x-python",
         "name": "python",
         "nbconvert_exporter": "python",
         "pygments_lexer": "ipython3",
         "version": "3.13.2"
      }
   },
   "nbformat": 4,
   "nbformat_minor": 5
}
