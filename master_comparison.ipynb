{
 "cells": [
  {
   "cell_type": "code",
   "execution_count": 1,
   "id": "3fb67d45",
   "metadata": {},
   "outputs": [],
   "source": [
    "from udl_project.training import config\n",
    "\n",
    "EPOCHS = 10"
   ]
  },
  {
   "cell_type": "code",
   "execution_count": 2,
   "id": "3fa9b5db",
   "metadata": {},
   "outputs": [
    {
     "name": "stderr",
     "output_type": "stream",
     "text": [
      "/home/jannes/git/udl_project/.venv/lib/python3.12/site-packages/tqdm/auto.py:21: TqdmWarning: IProgress not found. Please update jupyter and ipywidgets. See https://ipywidgets.readthedocs.io/en/stable/user_install.html\n",
      "  from .autonotebook import tqdm as notebook_tqdm\n"
     ]
    },
    {
     "name": "stdout",
     "output_type": "stream",
     "text": [
      "============================================================\n",
      "PRETRAINING ORIGINAL RESNET MODEL\n",
      "============================================================\n",
      "Data directory: /home/jannes/.cache/kagglehub/datasets/msarmi9/food101tiny/versions/1\n",
      "Training Unregularized ResNet...\n",
      "16.896397544982584\n",
      "Epoch [1/10] - Train Loss: 16.8964, Train Accuracy: 0.1560 | Val Loss: 4.9651, Val Accuracy: 0.1560 | Duration: 0:00:06.811673\n",
      "2.174647737056651\n",
      "Epoch [2/10] - Train Loss: 2.1746, Train Accuracy: 0.2853 | Val Loss: 1.9913, Val Accuracy: 0.3060 | Duration: 0:00:06.798603\n",
      "1.840313287491494\n",
      "Epoch [3/10] - Train Loss: 1.8403, Train Accuracy: 0.3553 | Val Loss: 1.9595, Val Accuracy: 0.3020 | Duration: 0:00:06.822003\n",
      "1.6815544189290796\n",
      "Epoch [4/10] - Train Loss: 1.6816, Train Accuracy: 0.4033 | Val Loss: 1.9694, Val Accuracy: 0.3040 | Duration: 0:00:06.808721\n",
      "1.625700313994225\n",
      "Epoch [5/10] - Train Loss: 1.6257, Train Accuracy: 0.4340 | Val Loss: 2.1188, Val Accuracy: 0.2900 | Duration: 0:00:04.540843\n",
      "1.539973537972633\n",
      "Epoch [6/10] - Train Loss: 1.5400, Train Accuracy: 0.4473 | Val Loss: 2.1427, Val Accuracy: 0.3160 | Duration: 0:00:06.862793\n",
      "1.4147293593021149\n",
      "Epoch [7/10] - Train Loss: 1.4147, Train Accuracy: 0.5147 | Val Loss: 2.0006, Val Accuracy: 0.3360 | Duration: 0:00:06.824006\n",
      "1.2939942720088553\n",
      "Epoch [8/10] - Train Loss: 1.2940, Train Accuracy: 0.5473 | Val Loss: 2.3283, Val Accuracy: 0.3140 | Duration: 0:00:07.037536\n",
      "1.2339402931801817\n",
      "Epoch [9/10] - Train Loss: 1.2339, Train Accuracy: 0.5800 | Val Loss: 2.3216, Val Accuracy: 0.3140 | Duration: 0:00:07.473788\n",
      "1.0966238176569025\n",
      "Epoch [10/10] - Train Loss: 1.0966, Train Accuracy: 0.6293 | Val Loss: 2.5008, Val Accuracy: 0.2900 | Duration: 0:00:04.723582\n",
      "pretraining_results.pkl\n",
      "Pretraining model training completed!\n",
      "Final overfitting gap: 0.3393\n",
      "Results saved to artifacts/pretrain_results.pkl\n",
      "============================================================\n",
      "FINETUNING RESNET MODEL\n",
      "============================================================\n",
      "Data directory: /home/jannes/.cache/kagglehub/datasets/lara311/flowers-five-classes/versions/1\n",
      "Training Unregularized ResNet...\n",
      "1.6350225685299307\n",
      "Epoch [1/10] - Train Loss: 1.6350, Train Accuracy: 0.4276 | Val Loss: 1.1877, Val Accuracy: 0.4945 | Duration: 0:00:08.435563\n",
      "1.1524888078371684\n",
      "Epoch [2/10] - Train Loss: 1.1525, Train Accuracy: 0.5574 | Val Loss: 1.1888, Val Accuracy: 0.5055 | Duration: 0:00:08.344412\n",
      "1.069684182388195\n",
      "Epoch [3/10] - Train Loss: 1.0697, Train Accuracy: 0.5797 | Val Loss: 1.2875, Val Accuracy: 0.4764 | Duration: 0:00:07.938595\n",
      "0.9977618939634683\n",
      "Epoch [4/10] - Train Loss: 0.9978, Train Accuracy: 0.6120 | Val Loss: 1.2345, Val Accuracy: 0.5400 | Duration: 0:00:08.727316\n",
      "0.9055448882821677\n",
      "Epoch [5/10] - Train Loss: 0.9055, Train Accuracy: 0.6580 | Val Loss: 1.2039, Val Accuracy: 0.5527 | Duration: 0:00:08.588456\n",
      "0.865400411080623\n",
      "Epoch [6/10] - Train Loss: 0.8654, Train Accuracy: 0.6876 | Val Loss: 1.0599, Val Accuracy: 0.5873 | Duration: 0:00:08.896623\n",
      "0.7750949082167252\n",
      "Epoch [7/10] - Train Loss: 0.7751, Train Accuracy: 0.7095 | Val Loss: 1.1875, Val Accuracy: 0.5564 | Duration: 0:00:06.705893\n",
      "0.8341389052245928\n",
      "Epoch [8/10] - Train Loss: 0.8341, Train Accuracy: 0.6967 | Val Loss: 1.3802, Val Accuracy: 0.5018 | Duration: 0:00:08.303641\n",
      "0.7161124098128167\n",
      "Epoch [9/10] - Train Loss: 0.7161, Train Accuracy: 0.7413 | Val Loss: 1.5994, Val Accuracy: 0.5345 | Duration: 0:00:08.662151\n",
      "0.6459421096504598\n",
      "Epoch [10/10] - Train Loss: 0.6459, Train Accuracy: 0.7646 | Val Loss: 1.2823, Val Accuracy: 0.5655 | Duration: 0:00:08.209402\n",
      "finetune_results.pkl\n",
      "\n",
      "Finetuning model training completed!\n",
      "Final overfitting gap: 0.1991\n",
      "Results saved to artifacts/finetune_results.pkl\n",
      "============================================================\n",
      "FINETUNING RESNET MODEL\n",
      "============================================================\n",
      "Data directory: /home/jannes/.cache/kagglehub/datasets/lara311/flowers-five-classes/versions/1\n",
      "Training Unregularized ResNet...\n",
      "2.2049110212187837\n",
      "Epoch [1/10] - Train Loss: 2.2049, Train Accuracy: 0.4344 | Val Loss: 2.0807, Val Accuracy: 0.4927 | Duration: 0:00:02.827202\n",
      "1.5101797718932664\n",
      "Epoch [2/10] - Train Loss: 1.5102, Train Accuracy: 0.5679 | Val Loss: 2.2320, Val Accuracy: 0.4382 | Duration: 0:00:04.675321\n",
      "1.37374718811201\n",
      "Epoch [3/10] - Train Loss: 1.3737, Train Accuracy: 0.6015 | Val Loss: 2.1363, Val Accuracy: 0.4764 | Duration: 0:00:04.561127\n",
      "1.1997657599656477\n",
      "Epoch [4/10] - Train Loss: 1.1998, Train Accuracy: 0.6330 | Val Loss: 2.2105, Val Accuracy: 0.4891 | Duration: 0:00:04.699311\n",
      "1.081066383399825\n",
      "Epoch [5/10] - Train Loss: 1.0811, Train Accuracy: 0.6612 | Val Loss: 2.4094, Val Accuracy: 0.4691 | Duration: 0:00:04.554966\n",
      "0.9775839538677878\n",
      "Epoch [6/10] - Train Loss: 0.9776, Train Accuracy: 0.6963 | Val Loss: 2.3077, Val Accuracy: 0.4927 | Duration: 0:00:04.845681\n",
      "0.950630811245545\n",
      "Epoch [7/10] - Train Loss: 0.9506, Train Accuracy: 0.7049 | Val Loss: 2.5943, Val Accuracy: 0.4818 | Duration: 0:00:04.718374\n",
      "0.8726807897505553\n",
      "Epoch [8/10] - Train Loss: 0.8727, Train Accuracy: 0.7172 | Val Loss: 2.5819, Val Accuracy: 0.4964 | Duration: 0:00:02.832786\n",
      "0.8263481427793917\n",
      "Epoch [9/10] - Train Loss: 0.8263, Train Accuracy: 0.7413 | Val Loss: 2.7864, Val Accuracy: 0.5109 | Duration: 0:00:04.563371\n",
      "0.7673971204869989\n",
      "Epoch [10/10] - Train Loss: 0.7674, Train Accuracy: 0.7618 | Val Loss: 2.6599, Val Accuracy: 0.4727 | Duration: 0:00:04.779849\n",
      "finetune_results.pkl\n",
      "\n",
      "Finetuning model training completed!\n",
      "Final overfitting gap: 0.2891\n",
      "Results saved to artifacts/finetune_results.pkl\n"
     ]
    }
   ],
   "source": [
    "from udl_project.training.resnet_tfl_trainer import ResNetModelTFLTrainer\n",
    "\n",
    "tfl_model_trainer = ResNetModelTFLTrainer(epochs=EPOCHS, learning_rate=0.01)\n",
    "tfl_model_trainer.train()"
   ]
  },
  {
   "cell_type": "code",
   "execution_count": 3,
   "id": "3790f89a",
   "metadata": {},
   "outputs": [
    {
     "name": "stdout",
     "output_type": "stream",
     "text": [
      "============================================================\n",
      "TRAINING ORIGINAL RESNET MODEL\n",
      "============================================================\n",
      "Data directory: /home/jannes/.cache/kagglehub/datasets/lara311/flowers-five-classes/versions/1\n",
      "Training Unregularized ResNet...\n",
      "12.457960882048676\n",
      "Epoch [1/10] - Train Loss: 12.4580, Train Accuracy: 0.3479 | Val Loss: 11.6209, Val Accuracy: 0.4145 | Duration: 0:00:08.155317\n",
      "3.0224851102068806\n",
      "Epoch [2/10] - Train Loss: 3.0225, Train Accuracy: 0.4891 | Val Loss: 1.8588, Val Accuracy: 0.4909 | Duration: 0:00:10.006757\n",
      "1.9774939340093862\n",
      "Epoch [3/10] - Train Loss: 1.9775, Train Accuracy: 0.5328 | Val Loss: 1.9311, Val Accuracy: 0.4727 | Duration: 0:00:07.842366\n",
      "1.7771467592405237\n",
      "Epoch [4/10] - Train Loss: 1.7771, Train Accuracy: 0.5583 | Val Loss: 1.7431, Val Accuracy: 0.5000 | Duration: 0:00:09.149392\n",
      "2.0168238515439243\n",
      "Epoch [5/10] - Train Loss: 2.0168, Train Accuracy: 0.5569 | Val Loss: 1.6654, Val Accuracy: 0.5000 | Duration: 0:00:09.053560\n",
      "2.386645176272461\n",
      "Epoch [6/10] - Train Loss: 2.3866, Train Accuracy: 0.5524 | Val Loss: 1.6553, Val Accuracy: 0.4727 | Duration: 0:00:08.707020\n",
      "1.7767714132433352\n",
      "Epoch [7/10] - Train Loss: 1.7768, Train Accuracy: 0.5956 | Val Loss: 2.9467, Val Accuracy: 0.5400 | Duration: 0:00:07.426987\n",
      "1.4768075208733047\n",
      "Epoch [8/10] - Train Loss: 1.4768, Train Accuracy: 0.6207 | Val Loss: 3.5239, Val Accuracy: 0.5382 | Duration: 0:00:10.881353\n",
      "1.5925605478494063\n",
      "Epoch [9/10] - Train Loss: 1.5926, Train Accuracy: 0.6011 | Val Loss: 2.4558, Val Accuracy: 0.5218 | Duration: 0:00:09.742856\n",
      "1.425766390302907\n",
      "Epoch [10/10] - Train Loss: 1.4258, Train Accuracy: 0.6070 | Val Loss: 1.7368, Val Accuracy: 0.4836 | Duration: 0:00:08.153461\n",
      "\n",
      "Original model training completed!\n",
      "Final overfitting gap: 0.1234\n",
      "Results saved to artifacts/original_results.pkl\n"
     ]
    }
   ],
   "source": [
    "from udl_project.training.resnet_model_trainer import ResNetModelTrainer\n",
    "\n",
    "res_net_model_trainer = ResNetModelTrainer(epochs=EPOCHS, learning_rate=0.01)\n",
    "res_net_model_trainer.train()"
   ]
  },
  {
   "cell_type": "code",
   "execution_count": null,
   "id": "d0c5af91",
   "metadata": {},
   "outputs": [],
   "source": [
    "from udl_project.training.l2_regularized_model_trainer import L2RegularizedModelTrainer\n",
    "\n",
    "l2_regularized_model_trainer = L2RegularizedModelTrainer(config.WEIGHT_DECAY, epochs=EPOCHS)\n",
    "l2_regularized_model_trainer.train()"
   ]
  },
  {
   "cell_type": "code",
   "execution_count": null,
   "id": "003e221c",
   "metadata": {},
   "outputs": [],
   "source": [
    "from udl_project.training.ensemble_model_trainer import EnsembleModelTrainer\n",
    "\n",
    "ensemble_model_trainer = EnsembleModelTrainer(config.NUMBER_OF_ENSEMBLE_MODELS, epochs=EPOCHS)\n",
    "ensemble_model_trainer.train()"
   ]
  },
  {
   "cell_type": "code",
   "execution_count": null,
   "id": "ec3029b7",
   "metadata": {},
   "outputs": [],
   "source": [
    "from udl_project.plotter import COLORS, LINESTYLES"
   ]
  },
  {
   "cell_type": "code",
   "execution_count": null,
   "id": "19c4c739",
   "metadata": {},
   "outputs": [],
   "source": [
    "from udl_project.plotter import load_results, plot_comparison\n",
    "\n",
    "results = load_results()\n",
    "comparison_fig = plot_comparison(results=results, colors=COLORS, linestyles=LINESTYLES)"
   ]
  },
  {
   "cell_type": "code",
   "execution_count": null,
   "id": "521c0cf5",
   "metadata": {},
   "outputs": [],
   "source": [
    "from udl_project.plotter import plot_overfitting_analysis\n",
    "\n",
    "overfitting_analysis_fig = plot_overfitting_analysis(\n",
    "    results=results, colors=COLORS, linestyles=LINESTYLES\n",
    ")"
   ]
  },
  {
   "cell_type": "code",
   "execution_count": null,
   "id": "689b1fe4",
   "metadata": {},
   "outputs": [],
   "source": [
    "from udl_project.plotter import plot_summary_dashboard\n",
    "\n",
    "dashboard_fig = plot_summary_dashboard(results=results, colors=COLORS)"
   ]
  },
  {
   "cell_type": "code",
   "execution_count": null,
   "id": "287ca08e",
   "metadata": {},
   "outputs": [],
   "source": [
    "from udl_project.plotter import print_summary\n",
    "\n",
    "print_summary(results=results)"
   ]
  }
 ],
 "metadata": {
  "kernelspec": {
   "display_name": ".venv",
   "language": "python",
   "name": "python3"
  },
  "language_info": {
   "codemirror_mode": {
    "name": "ipython",
    "version": 3
   },
   "file_extension": ".py",
   "mimetype": "text/x-python",
   "name": "python",
   "nbconvert_exporter": "python",
   "pygments_lexer": "ipython3",
   "version": "3.12.8"
  }
 },
 "nbformat": 4,
 "nbformat_minor": 5
}
