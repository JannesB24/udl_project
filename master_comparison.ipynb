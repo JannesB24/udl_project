{
 "cells": [
  {
   "cell_type": "code",
   "execution_count": null,
   "id": "3fb67d45",
   "metadata": {},
   "outputs": [],
   "source": [
    "from udl_project.training import config\n",
    "\n",
    "EPOCHS = 10\n"
   ]
  },
  {
   "cell_type": "code",
   "execution_count": null,
   "id": "3790f89a",
   "metadata": {},
   "outputs": [],
   "source": [
    "from udl_project.training.resnet_model_trainer import ResNetModelTrainer\n",
    "\n",
    "res_net_mode_trainer = ResNetModelTrainer(epochs=EPOCHS,learning_rate=0.01 )\n",
    "res_net_mode_trainer.train()"
   ]
  },
  {
   "cell_type": "code",
   "execution_count": null,
   "id": "33ca330a",
   "metadata": {},
   "outputs": [],
   "source": [
    "from udl_project.training.dropout_model_trainer import DropoutModelTrainer\n",
    "dp_model_trainer= DropoutModelTrainer(epochs=EPOCHS,learning_rate=0.01, dp_rate=0.5)\n",
    "dp_model_trainer.train()"
   ]
  },
  {
   "cell_type": "code",
   "execution_count": null,
   "id": "d0c5af91",
   "metadata": {},
   "outputs": [],
   "source": [
    "from udl_project.training.l2_regularized_model_trainer import L2RegularizedModelTrainer\n",
    "\n",
    "l2_regularized_model_trainer = L2RegularizedModelTrainer(config.WEIGHT_DECAY, epochs=EPOCHS)\n",
    "l2_regularized_model_trainer.train()"
   ]
  },
  {
   "cell_type": "code",
   "execution_count": null,
   "id": "003e221c",
   "metadata": {},
   "outputs": [],
   "source": [
    "from udl_project.training.ensemble_model_trainer import EnsembleModelTrainer\n",
    "\n",
    "ensemble_model_trainer = EnsembleModelTrainer(config.NUMBER_OF_ENSEMBLE_MODELS, epochs=EPOCHS)\n",
    "ensemble_model_trainer.train()"
   ]
  },
  {
   "cell_type": "code",
   "execution_count": null,
   "id": "ec3029b7",
   "metadata": {},
   "outputs": [],
   "source": [
    "from udl_project.plotter import COLORS, LINESTYLES"
   ]
  },
  {
   "cell_type": "code",
   "execution_count": null,
   "id": "19c4c739",
   "metadata": {},
   "outputs": [],
   "source": [
    "from udl_project.plotter import load_results, plot_comparison\n",
    "\n",
    "results = load_results()\n",
    "comparison_fig = plot_comparison(results=results, colors=COLORS, linestyles=LINESTYLES)"
   ]
  },
  {
   "cell_type": "code",
   "execution_count": null,
   "id": "521c0cf5",
   "metadata": {},
   "outputs": [],
   "source": [
    "from udl_project.plotter import plot_overfitting_analysis\n",
    "\n",
    "overfitting_analysis_fig = plot_overfitting_analysis(\n",
    "    results=results, colors=COLORS, linestyles=LINESTYLES\n",
    ")"
   ]
  },
  {
   "cell_type": "code",
   "execution_count": null,
   "id": "689b1fe4",
   "metadata": {},
   "outputs": [],
   "source": [
    "from udl_project.plotter import plot_summary_dashboard\n",
    "\n",
    "dashboard_fig = plot_summary_dashboard(results=results, colors=COLORS)"
   ]
  },
  {
   "cell_type": "code",
   "execution_count": null,
   "id": "287ca08e",
   "metadata": {},
   "outputs": [],
   "source": [
    "from udl_project.plotter import print_summary\n",
    "\n",
    "print_summary(results=results)"
   ]
  }
 ],
 "metadata": {
  "kernelspec": {
   "display_name": ".venv",
   "language": "python",
   "name": "python3"
  },
  "language_info": {
   "codemirror_mode": {
    "name": "ipython",
    "version": 3
   },
   "file_extension": ".py",
   "mimetype": "text/x-python",
   "name": "python",
   "nbconvert_exporter": "python",
   "pygments_lexer": "ipython3",
   "version": "3.11.2"
  }
 },
 "nbformat": 4,
 "nbformat_minor": 5
}
