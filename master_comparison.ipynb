{
 "cells": [
  {
   "cell_type": "markdown",
   "id": "4f95fd67",
   "metadata": {},
   "source": [
    "ResNet Model Comparison Analysis\n",
    "This notebook implements and compares different ResNet model training approaches using various regularization techniques on a small classification dataset.\n"
   ]
  },
  {
   "cell_type": "code",
   "execution_count": 2,
   "id": "3fb67d45",
   "metadata": {},
   "outputs": [],
   "source": [
    "from udl_project.training import config\n",
    "\n",
    "EPOCHS = 10"
   ]
  },
  {
   "cell_type": "code",
   "execution_count": null,
   "id": "d6048527",
   "metadata": {},
   "outputs": [],
   "source": [
    "from udl_project.training.resnet_tfl_trainer import ResNetModelTFLTrainer\n",
    "\n",
    "tfl_model_trainer = ResNetModelTFLTrainer(epochs=EPOCHS, learning_rate=config.LEARNING_RATE)\n",
    "tfl_model_trainer.train()"
   ]
  },
  {
   "cell_type": "code",
   "execution_count": null,
   "id": "bb837308",
   "metadata": {},
   "outputs": [],
   "source": [
    "from udl_project.training.dropout_model_trainer import DropoutModelTrainer\n",
    "\n",
    "dp_model_trainer = DropoutModelTrainer(\n",
    "    epochs=EPOCHS, learning_rate=config.LEARNING_RATE, dp_rate=0.5\n",
    ")\n",
    "dp_model_trainer.train()"
   ]
  },
  {
   "cell_type": "code",
   "execution_count": null,
   "id": "3790f89a",
   "metadata": {},
   "outputs": [],
   "source": [
    "from udl_project.training.resnet_model_trainer import ResNetModelTrainer\n",
    "\n",
    "res_net_model_trainer = ResNetModelTrainer(epochs=EPOCHS, learning_rate=config.LEARNING_RATE)\n",
    "res_net_model_trainer.train()"
   ]
  },
  {
   "cell_type": "code",
   "execution_count": null,
   "id": "d0c5af91",
   "metadata": {},
   "outputs": [],
   "source": [
    "from udl_project.training.l2_regularized_model_trainer import L2RegularizedModelTrainer\n",
    "\n",
    "l2_regularized_model_trainer = L2RegularizedModelTrainer(config.WEIGHT_DECAY, epochs=EPOCHS)\n",
    "l2_regularized_model_trainer.train()"
   ]
  },
  {
   "cell_type": "code",
   "execution_count": 1,
   "id": "bc5f4c90",
   "metadata": {},
   "outputs": [
    {
     "name": "stderr",
     "output_type": "stream",
     "text": [
      "/home/jannes/git/udl_project/.venv/lib/python3.12/site-packages/tqdm/auto.py:21: TqdmWarning: IProgress not found. Please update jupyter and ipywidgets. See https://ipywidgets.readthedocs.io/en/stable/user_install.html\n",
      "  from .autonotebook import tqdm as notebook_tqdm\n"
     ]
    },
    {
     "ename": "NameError",
     "evalue": "name 'EPOCHS' is not defined",
     "output_type": "error",
     "traceback": [
      "\u001b[31m---------------------------------------------------------------------------\u001b[39m",
      "\u001b[31mNameError\u001b[39m                                 Traceback (most recent call last)",
      "\u001b[36mCell\u001b[39m\u001b[36m \u001b[39m\u001b[32mIn[1]\u001b[39m\u001b[32m, line 3\u001b[39m\n\u001b[32m      1\u001b[39m \u001b[38;5;28;01mfrom\u001b[39;00m\u001b[38;5;250m \u001b[39m\u001b[34;01mudl_project\u001b[39;00m\u001b[34;01m.\u001b[39;00m\u001b[34;01mtraining\u001b[39;00m\u001b[34;01m.\u001b[39;00m\u001b[34;01mearly_stopping_model_trainer\u001b[39;00m\u001b[38;5;250m \u001b[39m\u001b[38;5;28;01mimport\u001b[39;00m EarlyStoppingModelTrainer\n\u001b[32m----> \u001b[39m\u001b[32m3\u001b[39m early_stopping_model_trainer = EarlyStoppingModelTrainer(patience=\u001b[32m5\u001b[39m, epochs=\u001b[43mEPOCHS\u001b[49m)\n\u001b[32m      4\u001b[39m early_stopping_model_trainer.train()\n",
      "\u001b[31mNameError\u001b[39m: name 'EPOCHS' is not defined"
     ]
    }
   ],
   "source": [
    "from udl_project.training.early_stopping_model_trainer import EarlyStoppingModelTrainer\n",
    "\n",
    "early_stopping_model_trainer = EarlyStoppingModelTrainer(patience=5, epochs=EPOCHS)\n",
    "early_stopping_model_trainer.train()"
   ]
  },
  {
   "cell_type": "code",
   "execution_count": null,
   "id": "003e221c",
   "metadata": {},
   "outputs": [],
   "source": [
    "from udl_project.training.ensemble_model_trainer import EnsembleModelTrainer\n",
    "\n",
    "ensemble_model_trainer = EnsembleModelTrainer(config.NUMBER_OF_ENSEMBLE_MODELS, epochs=EPOCHS)\n",
    "ensemble_model_trainer.train()"
   ]
  },
  {
   "cell_type": "code",
   "execution_count": null,
   "id": "d38bf6bd",
   "metadata": {},
   "outputs": [],
   "source": [
    "from udl_project.training.data_augmentation_trainer import DataAugmentation\n",
    "\n",
    "trainer = DataAugmentation(learning_rate=0.001, epochs=10)\n",
    "trainer.train()"
   ]
  },
  {
   "cell_type": "code",
   "execution_count": null,
   "id": "ec3029b7",
   "metadata": {},
   "outputs": [],
   "source": [
    "from udl_project.plotter import COLORS, LINESTYLES"
   ]
  },
  {
   "cell_type": "code",
   "execution_count": null,
   "id": "19c4c739",
   "metadata": {},
   "outputs": [],
   "source": [
    "from udl_project.plotter import load_results, plot_comparison\n",
    "\n",
    "results = load_results()\n",
    "comparison_fig = plot_comparison(results=results, colors=COLORS, linestyles=LINESTYLES)"
   ]
  },
  {
   "cell_type": "code",
   "execution_count": null,
   "id": "521c0cf5",
   "metadata": {},
   "outputs": [],
   "source": [
    "from udl_project.plotter import plot_overfitting_analysis\n",
    "\n",
    "overfitting_analysis_fig = plot_overfitting_analysis(\n",
    "    results=results, colors=COLORS, linestyles=LINESTYLES\n",
    ")"
   ]
  },
  {
   "cell_type": "code",
   "execution_count": null,
   "id": "689b1fe4",
   "metadata": {},
   "outputs": [],
   "source": [
    "from udl_project.plotter import plot_summary_dashboard\n",
    "\n",
    "dashboard_fig = plot_summary_dashboard(results=results, colors=COLORS)"
   ]
  },
  {
   "cell_type": "code",
   "execution_count": null,
   "id": "287ca08e",
   "metadata": {},
   "outputs": [],
   "source": [
    "from udl_project.plotter import print_summary\n",
    "\n",
    "print_summary(results=results)"
   ]
  }
 ],
 "metadata": {
  "kernelspec": {
   "display_name": ".venv",
   "language": "python",
   "name": "python3"
  },
  "language_info": {
   "codemirror_mode": {
    "name": "ipython",
    "version": 3
   },
   "file_extension": ".py",
   "mimetype": "text/x-python",
   "name": "python",
   "nbconvert_exporter": "python",
   "pygments_lexer": "ipython3",
   "version": "3.12.8"
  }
 },
 "nbformat": 4,
 "nbformat_minor": 5
}
