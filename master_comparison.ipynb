{
 "cells": [
  {
   "cell_type": "markdown",
   "id": "4f95fd67",
   "metadata": {},
   "source": [
    "ResNet Model Comparison Analysis\n",
    "This notebook implements and compares different ResNet model training approaches using various regularization techniques on a small classification dataset.\n"
   ]
  },
  {
   "cell_type": "code",
   "execution_count": null,
   "id": "3fb67d45",
   "metadata": {},
   "outputs": [],
   "source": [
    "from udl_project.training import config\n",
    "\n",
    "EPOCHS = 10\n",
    "learning_rate = 0.001"
   ]
  },
  {
   "cell_type": "code",
   "execution_count": 3,
   "id": "3790f89a",
   "metadata": {},
   "outputs": [
    {
     "name": "stdout",
     "output_type": "stream",
     "text": [
      "============================================================\n",
      "TRAINING ORIGINAL RESNET MODEL\n",
      "============================================================\n",
      "Downloading from https://www.kaggle.com/api/v1/datasets/download/lara311/flowers-five-classes?dataset_version_number=1...\n"
     ]
    },
    {
     "name": "stderr",
     "output_type": "stream",
     "text": [
      "100%|██████████| 158M/158M [00:04<00:00, 36.9MB/s] "
     ]
    },
    {
     "name": "stdout",
     "output_type": "stream",
     "text": [
      "Extracting files...\n"
     ]
    },
    {
     "name": "stderr",
     "output_type": "stream",
     "text": [
      "\n"
     ]
    },
    {
     "name": "stdout",
     "output_type": "stream",
     "text": [
      "Data directory: /Users/muhammad/.cache/kagglehub/datasets/lara311/flowers-five-classes/versions/1\n",
      "Training Unregularized ResNet...\n",
      "2.811445995517399\n",
      "Epoch [1/10] - Train Loss: 2.8114, Train Accuracy: 0.4822 | Val Loss: 2.1944, Val Accuracy: 0.5127 | Duration: 0:01:54.278298\n",
      "1.2882660005403601\n",
      "Epoch [2/10] - Train Loss: 1.2883, Train Accuracy: 0.6134 | Val Loss: 2.1667, Val Accuracy: 0.4527 | Duration: 0:01:57.118375\n",
      "0.8114107696042545\n",
      "Epoch [3/10] - Train Loss: 0.8114, Train Accuracy: 0.7295 | Val Loss: 1.8083, Val Accuracy: 0.5455 | Duration: 0:01:51.310326\n",
      "0.6006447746269945\n",
      "Epoch [4/10] - Train Loss: 0.6006, Train Accuracy: 0.7933 | Val Loss: 1.3970, Val Accuracy: 0.5600 | Duration: 0:01:47.884368\n",
      "0.4049000137526056\n",
      "Epoch [5/10] - Train Loss: 0.4049, Train Accuracy: 0.8529 | Val Loss: 1.2982, Val Accuracy: 0.6055 | Duration: 0:01:46.867541\n",
      "0.2918781616549561\n",
      "Epoch [6/10] - Train Loss: 0.2919, Train Accuracy: 0.8930 | Val Loss: 1.4631, Val Accuracy: 0.5891 | Duration: 0:01:46.485095\n",
      "0.2522625440488691\n",
      "Epoch [7/10] - Train Loss: 0.2523, Train Accuracy: 0.9139 | Val Loss: 2.0419, Val Accuracy: 0.4800 | Duration: 0:01:46.790387\n",
      "0.19437437871660013\n",
      "Epoch [8/10] - Train Loss: 0.1944, Train Accuracy: 0.9358 | Val Loss: 1.6726, Val Accuracy: 0.5655 | Duration: 0:01:46.223614\n",
      "0.13458264025225156\n",
      "Epoch [9/10] - Train Loss: 0.1346, Train Accuracy: 0.9586 | Val Loss: 1.8840, Val Accuracy: 0.5582 | Duration: 0:01:45.894302\n",
      "0.1353729804302903\n",
      "Epoch [10/10] - Train Loss: 0.1354, Train Accuracy: 0.9567 | Val Loss: 1.5802, Val Accuracy: 0.6127 | Duration: 0:01:51.633093\n",
      "\n",
      "Original model training completed!\n",
      "Final overfitting gap: 0.3440\n",
      "Results saved to artifacts/original_results.pkl\n"
     ]
    }
   ],
   "source": [
    "from udl_project.training.resnet_model_trainer import ResNetModelTrainer\n",
    "\n",
    "\n",
    "res_net_mode_trainer = ResNetModelTrainer(epochs=EPOCHS, learning_rate=learning_rate)\n",
    "res_net_mode_trainer.train()"
   ]
  },
  {
   "cell_type": "code",
   "execution_count": 4,
   "id": "d0c5af91",
   "metadata": {},
   "outputs": [
    {
     "name": "stdout",
     "output_type": "stream",
     "text": [
      "L2 REGULARIZATION TRAINING\n",
      "Using weight_decay=0.01\n",
      "============================================================\n",
      "============================================================\n",
      "TRAINING L2 REGULARIZED RESNET (weight_decay=0.01)\n",
      "============================================================\n",
      "Data directory: /Users/muhammad/.cache/kagglehub/datasets/lara311/flowers-five-classes/versions/1\n",
      "Training L2 Regularized ResNet...\n",
      "Epoch [1/10] - Train Loss: 2.6540, Train Accuracy: 0.4809 | Val Loss: 2.3785, Val Accuracy: 0.5218 | Duration: 0:01:49.892768\n",
      "Epoch [2/10] - Train Loss: 1.3970, Train Accuracy: 0.6129 | Val Loss: 1.6478, Val Accuracy: 0.5782 | Duration: 0:01:51.651647\n",
      "Epoch [3/10] - Train Loss: 0.8935, Train Accuracy: 0.7063 | Val Loss: 1.7005, Val Accuracy: 0.5673 | Duration: 0:01:49.759228\n",
      "Epoch [4/10] - Train Loss: 0.6338, Train Accuracy: 0.7787 | Val Loss: 1.7116, Val Accuracy: 0.5691 | Duration: 0:01:48.236334\n",
      "Epoch [5/10] - Train Loss: 0.4740, Train Accuracy: 0.8224 | Val Loss: 1.5804, Val Accuracy: 0.5964 | Duration: 0:01:47.710544\n",
      "Epoch [6/10] - Train Loss: 0.3411, Train Accuracy: 0.8757 | Val Loss: 1.5483, Val Accuracy: 0.5745 | Duration: 0:01:47.605716\n",
      "Epoch [7/10] - Train Loss: 0.2730, Train Accuracy: 0.9026 | Val Loss: 2.1847, Val Accuracy: 0.4873 | Duration: 0:01:46.317597\n",
      "Epoch [8/10] - Train Loss: 0.1986, Train Accuracy: 0.9317 | Val Loss: 1.3696, Val Accuracy: 0.5982 | Duration: 0:01:46.690370\n",
      "Epoch [9/10] - Train Loss: 0.1465, Train Accuracy: 0.9549 | Val Loss: 1.4408, Val Accuracy: 0.6236 | Duration: 0:01:46.614282\n",
      "Epoch [10/10] - Train Loss: 0.1456, Train Accuracy: 0.9567 | Val Loss: 1.3072, Val Accuracy: 0.6073 | Duration: 0:01:47.398553\n",
      "\n",
      "L2 Regularized model training completed!\n",
      "Final overfitting gap: 0.3495\n",
      "Results saved to ../artifacts/l2_results.pkl\n",
      "\n",
      "L2 REGULARIZATION TRAINING COMPLETED!\n",
      "Generated files:\n",
      "  - ../artifacts/l2_model_wd_0.01.pth\n",
      "  - ../artifacts/l2_results.pkl\n"
     ]
    }
   ],
   "source": [
    "from udl_project.training.l2_regularized_model_trainer import L2RegularizedModelTrainer\n",
    "\n",
    "\n",
    "l2_regularized_model_trainer = L2RegularizedModelTrainer(config.WEIGHT_DECAY, epochs=EPOCHS)\n",
    "l2_regularized_model_trainer.train()"
   ]
  },
  {
   "cell_type": "code",
   "execution_count": null,
   "id": "bc5f4c90",
   "metadata": {},
   "outputs": [
    {
     "name": "stdout",
     "output_type": "stream",
     "text": [
      "EARLY STOPPING TRAINING\n",
      "Using patience=5, min_delta=0.0, monitor='val_loss'\n",
      "============================================================\n",
      "============================================================\n",
      "TRAINING RESNET WITH EARLY STOPPING (patience=5, monitor=val_loss)\n",
      "============================================================\n",
      "Data directory: /Users/muhammad/.cache/kagglehub/datasets/lara311/flowers-five-classes/versions/1\n",
      "Training ResNet with Early Stopping...\n",
      "Epoch [1/10] - Train Loss: 2.3636, Train Accuracy: 0.5114 | Val Loss: 1.6486, Val Accuracy: 0.5636 | Duration: 0:01:57.281215\n",
      "Epoch [2/10] - Train Loss: 1.2863, Train Accuracy: 0.6357 | Val Loss: 2.3091, Val Accuracy: 0.4982 | Duration: 0:01:52.146370\n",
      "    → No improvement for 1 epochs\n",
      "Epoch [3/10] - Train Loss: 0.8466, Train Accuracy: 0.7231 | Val Loss: 2.3561, Val Accuracy: 0.5655 | Duration: 0:01:48.173810\n",
      "    → No improvement for 2 epochs\n",
      "Epoch [4/10] - Train Loss: 0.5495, Train Accuracy: 0.8056 | Val Loss: 1.3922, Val Accuracy: 0.6073 | Duration: 0:01:53.338177\n",
      "    → New best val_loss: 1.3922\n",
      "Epoch [5/10] - Train Loss: 0.3667, Train Accuracy: 0.8679 | Val Loss: 1.8365, Val Accuracy: 0.5764 | Duration: 0:01:48.256335\n",
      "    → No improvement for 1 epochs\n",
      "Epoch [6/10] - Train Loss: 0.3305, Train Accuracy: 0.8852 | Val Loss: 1.8962, Val Accuracy: 0.5400 | Duration: 0:01:53.362357\n",
      "    → No improvement for 2 epochs\n",
      "Epoch [7/10] - Train Loss: 0.2045, Train Accuracy: 0.9308 | Val Loss: 1.8878, Val Accuracy: 0.5945 | Duration: 0:01:53.152199\n",
      "    → No improvement for 3 epochs\n",
      "Epoch [8/10] - Train Loss: 0.1533, Train Accuracy: 0.9476 | Val Loss: 1.8039, Val Accuracy: 0.5982 | Duration: 0:01:57.891142\n",
      "    → No improvement for 4 epochs\n"
     ]
    }
   ],
   "source": [
    "from udl_project.training.early_stopping_model_trainer import EarlyStoppingModelTrainer\n",
    "\n",
    "early_stopping_model_trainer = EarlyStoppingModelTrainer(patience=5, epochs=EPOCHS)\n",
    "early_stopping_model_trainer.train()"
   ]
  },
  {
   "cell_type": "code",
   "execution_count": null,
   "id": "003e221c",
   "metadata": {},
   "outputs": [],
   "source": [
    "from udl_project.training.ensemble_model_trainer import EnsembleModelTrainer\n",
    "\n",
    "\n",
    "ensemble_model_trainer = EnsembleModelTrainer(config.NUMBER_OF_ENSEMBLE_MODELS, epochs=EPOCHS)\n",
    "ensemble_model_trainer.train()"
   ]
  },
  {
   "cell_type": "code",
   "execution_count": null,
   "id": "ec3029b7",
   "metadata": {},
   "outputs": [],
   "source": [
    "from udl_project.plotter import COLORS, LINESTYLES"
   ]
  },
  {
   "cell_type": "code",
   "execution_count": null,
   "id": "19c4c739",
   "metadata": {},
   "outputs": [],
   "source": [
    "from udl_project.plotter import load_results, plot_comparison\n",
    "\n",
    "\n",
    "results = load_results()\n",
    "comparison_fig = plot_comparison(results=results, colors=COLORS, linestyles=LINESTYLES)"
   ]
  },
  {
   "cell_type": "code",
   "execution_count": null,
   "id": "521c0cf5",
   "metadata": {},
   "outputs": [],
   "source": [
    "from udl_project.plotter import plot_overfitting_analysis\n",
    "\n",
    "overfitting_analysis_fig = plot_overfitting_analysis(\n",
    "    results=results, colors=COLORS, linestyles=LINESTYLES\n",
    ")"
   ]
  },
  {
   "cell_type": "code",
   "execution_count": null,
   "id": "689b1fe4",
   "metadata": {},
   "outputs": [],
   "source": [
    "from udl_project.plotter import plot_summary_dashboard\n",
    "\n",
    "dashboard_fig = plot_summary_dashboard(results=results, colors=COLORS)"
   ]
  },
  {
   "cell_type": "code",
   "execution_count": null,
   "id": "287ca08e",
   "metadata": {},
   "outputs": [],
   "source": [
    "from udl_project.plotter import print_summary\n",
    "\n",
    "\n",
    "print_summary(results=results)"
   ]
  }
 ],
 "metadata": {
  "kernelspec": {
   "display_name": ".venv",
   "language": "python",
   "name": "python3"
  },
  "language_info": {
   "codemirror_mode": {
    "name": "ipython",
    "version": 3
   },
   "file_extension": ".py",
   "mimetype": "text/x-python",
   "name": "python",
   "nbconvert_exporter": "python",
   "pygments_lexer": "ipython3",
   "version": "3.13.2"
  }
 },
 "nbformat": 4,
 "nbformat_minor": 5
}
